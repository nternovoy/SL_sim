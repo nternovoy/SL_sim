{
 "cells": [
  {
   "cell_type": "code",
   "execution_count": 3,
   "metadata": {
    "collapsed": true
   },
   "outputs": [],
   "source": [
    "import datetime\n",
    "import numpy as np\n",
    "import pandas as pd\n",
    "import sys\n",
    "import time\n",
    "import math\n",
    "import random"
   ]
  },
  {
   "cell_type": "markdown",
   "metadata": {},
   "source": [
    "# NOT RELEVANT"
   ]
  },
  {
   "cell_type": "code",
   "execution_count": 22,
   "metadata": {},
   "outputs": [
    {
     "data": {
      "text/plain": [
       "'Hello there, pidr'"
      ]
     },
     "execution_count": 22,
     "metadata": {},
     "output_type": "execute_result"
    }
   ],
   "source": [
    "\"Please enter your name to continue: \"\n",
    "\n",
    "#get name\n",
    "name = 'pidr'\n",
    "\"Hello there, {}\".format(name) # -- add custom greetings for some people\n",
    "\n",
    "# Meeting the team: \n",
    "# - Developer\n",
    "# - Artist\n",
    "# - QA\n",
    "# - Analyst\n",
    "\n",
    "# loyalty -- you have to show something at least every 3 months\n",
    "# 2 types of hazards -- release and process and result\n",
    "\n",
    "# random \n",
    "# In the end -- if we have LTV < eCPI, we are not going to buy traffic\n"
   ]
  },
  {
   "cell_type": "markdown",
   "metadata": {},
   "source": [
    "# RELEVANT AF"
   ]
  },
  {
   "cell_type": "code",
   "execution_count": 38,
   "metadata": {},
   "outputs": [
    {
     "data": {
      "text/plain": [
       "'Crash Loyale'"
      ]
     },
     "execution_count": 38,
     "metadata": {},
     "output_type": "execute_result"
    }
   ],
   "source": [
    "from settings import Settings\n",
    "    \n",
    "# Here we choose the game name for our cool project \n",
    "def get_game_name(genre):\n",
    "    if (genre == 'casual'):\n",
    "        name =  random.choice(['Mildlife Bob!', 'Cado Avocado', 'Chop the Cord' ])\n",
    "    elif (genre == 'midcore'):\n",
    "        name =  random.choice(['D.O.G.S. — Definitely Original Game Setting', 'F.E.L.I.N.E.S', 'Crash Loyale', 'Thief of Kings' ])        \n",
    "    elif (genre == 'hardcore'):\n",
    "        name =  random.choice(['Bullet Echo', 'Fart Night', 'Player Om Nom\\'s Battlegrounds', 'Anrgry Nerds' ])\n",
    "    else:\n",
    "        name = 'What did you just do you fuck?'\n",
    "    return name\n",
    "\n",
    "GAME_SETTINGS = Settings()\n",
    "# get_game_name(GAME_SETTINGS.genre_list[1])"
   ]
  },
  {
   "cell_type": "code",
   "execution_count": 45,
   "metadata": {},
   "outputs": [],
   "source": [
    "# import all the modules\n",
    "from action import Action\n",
    "from hazard import Hazard\n",
    "from metrics import Metrics"
   ]
  },
  {
   "cell_type": "code",
   "execution_count": 32,
   "metadata": {},
   "outputs": [],
   "source": []
  },
  {
   "cell_type": "code",
   "execution_count": 43,
   "metadata": {
    "collapsed": true
   },
   "outputs": [],
   "source": [
    "class Game:\n",
    "    # general settings \n",
    "    genre = ''\n",
    "    game_name = ''\n",
    "    player_name = ''\n",
    "    \n",
    "    # flags for some \"one-time\" events\n",
    "    omnom_summoned = False\n",
    "    \n",
    "    # parameters for the main game loop\n",
    "    is_running = True\n",
    "    reason_closed = \"\"\n",
    "    \n",
    "    # some valuable stuff\n",
    "    actions_history = []\n",
    "    metrics_history = []\n",
    "    display_metrics_history = []\n",
    "    \n",
    "    \n",
    "    time_total = 0\n",
    "    time_spent = 0\n",
    "    iteration_count = 0\n",
    "    loyalty = 100\n",
    "    \n",
    "    def __init__(self, player_name, genre):\n",
    "        self.player_name = player_name\n",
    "        self.genre = genre\n",
    "        self.name = get_game_name(self.genre)\n",
    "        \n",
    "        #get all actions\n",
    "        actionsDF = pd.read_csv('activities.csv')\n",
    "        self.all_actions = [Action(actionsDF.loc[row]) for row in actionsDF.index]\n",
    "        \n",
    "        #get basic metrics\n",
    "        metricsDF = pd.read_csv('basic_metrics.csv')\n",
    "        \n",
    "        self.metrics_history = [Metrics(metricsDF[metricsDF['genre']==genre].d1,\n",
    "                                       metricsDF[metricsDF['genre']==genre].d7,\n",
    "                                       metricsDF[metricsDF['genre']==genre].LTV,\n",
    "                                       metricsDF[metricsDF['genre']==genre].CPI)]\n",
    "    \n",
    "    def update(self):\n",
    "        message = ''\n",
    "\n",
    "        # loyalty update function\n",
    "        # logic of increasing and decreasing investor \n",
    "        loyalty -= 10\n",
    "        #update_loyalty\n",
    "        if (loyalty < 10):\n",
    "            message += \"\\nInvestors are about to quit! Do something right now!!\"\n",
    "        elif (loyalty < 25):\n",
    "            message += \"\\nBoy oh boy, it looks like you're in a pickle with investors\"\n",
    "        elif (loyalty < 50):\n",
    "            message += \"\\nOi mate, it looks like you're in a pickle with investors\"\n",
    "\n",
    "            \n",
    "    def present_state(self):\n",
    "        return \"Boy oh boy we runnin'\"\n",
    "        \n",
    "            \n",
    "    # get all available action based on current progress, metrics, history etc.\n",
    "    def get_available_actions(self):\n",
    "        return all_actions\n",
    "    \n",
    "    def do_action(self, action, **kwargs):\n",
    "        action_method = getattr(self, action.method)\n",
    "        if action_method:\n",
    "            action_method(**kwargs)\n",
    "    \n",
    "    # functions that define player actions\n",
    "    def update_metrics(self, action):\n",
    "        \n",
    "        self.metrics_history[:-1].calculate_update_metrics(action.d1,\n",
    "                                                           action.d7,\n",
    "                                                           action.LTV,\n",
    "                                                           action.CPI)\n",
    "        \n",
    "        action_history.append(action)\n",
    "        \n",
    "        return\n",
    "    \n",
    "    def summon_analyst(self):\n",
    "        return '¯\\_(ツ)_/¯'\n",
    "    \n",
    "    def improve_LTV(self):\n",
    "        return\n",
    "    def add_om_nom(self):\n",
    "        return\n",
    "    def choose_random(self):\n",
    "        return\n"
   ]
  },
  {
   "cell_type": "code",
   "execution_count": 8,
   "metadata": {
    "collapsed": true
   },
   "outputs": [],
   "source": [
    "class Modifyer:\n",
    "    name = ''\n",
    "    description = ''\n",
    "\n",
    "class MetricsMod:\n",
    "    affected_metrics = ''"
   ]
  },
  {
   "cell_type": "code",
   "execution_count": null,
   "metadata": {},
   "outputs": [],
   "source": []
  },
  {
   "cell_type": "markdown",
   "metadata": {},
   "source": [
    "# Main game loop"
   ]
  },
  {
   "cell_type": "code",
   "execution_count": 39,
   "metadata": {},
   "outputs": [
    {
     "name": "stdout",
     "output_type": "stream",
     "text": [
      "Okay, sasaika, please welcome your new up and coming hit — F.E.L.I.N.E.S \n"
     ]
    }
   ],
   "source": [
    "# create the main game\n",
    "#name = raw_input(\"Welcome, summoner. Please enter the name you want to go by:  \")\n",
    "#genre_num = raw_input(\"Oh wow, nice to meet you, {}! Now it's time to choose your genre! (remember to choose wisely) [0,1,2]:  \".format(name))\n",
    "\n",
    "\n",
    "name = 'sasaika'\n",
    "genre_num = 1\n",
    "# create intance of a game\n",
    "the_game = Game(name, GAME_SETTINGS.genre_list[int(genre_num)])\n",
    "print(\"Okay, {}, please welcome your new up and coming hit — {} \".format(the_game.player_name,the_game.name))\n"
   ]
  },
  {
   "cell_type": "code",
   "execution_count": null,
   "metadata": {
    "collapsed": true
   },
   "outputs": [],
   "source": [
    "# main game loop\n",
    "def play():\n",
    "    while True:\n",
    "        if the_game.is_running:\n",
    "            # main logic with all the updates\n",
    "            the_game.\n",
    "            # present the current state\n",
    "            print(the_game.present_state())\n",
    "            print(\"Choose an action:\\n\")\n",
    "            \n",
    "            # get all the available actions\n",
    "            available_actions = the_game.get_available_actions()\n",
    "            # print them out and get input\n",
    "            while \n",
    "            for action in available_actions:\n",
    "                print(action)\n",
    "            action_input = input('Action: ')\n",
    "            if action_input in available_actions:\n",
    "                the_game.do_action(action, **action.kwargs)\n",
    "            \n",
    "            \n",
    "        else:\n",
    "            print(\"Oh snap, it looks like your project was closed because of {}... \\n Better luck next time, huh?\".format(the_game.reason_closed)\n",
    "            break\n",
    "    "
   ]
  }
 ],
 "metadata": {
  "kernelspec": {
   "display_name": "Python 2",
   "language": "python",
   "name": "python2"
  },
  "language_info": {
   "codemirror_mode": {
    "name": "ipython",
    "version": 2
   },
   "file_extension": ".py",
   "mimetype": "text/x-python",
   "name": "python",
   "nbconvert_exporter": "python",
   "pygments_lexer": "ipython2",
   "version": "2.7.15"
  }
 },
 "nbformat": 4,
 "nbformat_minor": 2
}
