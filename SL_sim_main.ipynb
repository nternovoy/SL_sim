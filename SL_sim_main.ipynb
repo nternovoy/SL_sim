{
 "cells": [
  {
   "cell_type": "code",
   "execution_count": 3,
   "metadata": {
    "collapsed": true
   },
   "outputs": [],
   "source": [
    "import datetime\n",
    "import numpy as np\n",
    "import pandas as pd\n",
    "import sys\n",
    "import time\n",
    "import math\n",
    "import random"
   ]
  },
  {
   "cell_type": "markdown",
   "metadata": {},
   "source": [
    "# NOT RELEVANT"
   ]
  },
  {
   "cell_type": "code",
   "execution_count": 5,
   "metadata": {},
   "outputs": [
    {
     "data": {
      "text/plain": [
       "'Hello there, pidr'"
      ]
     },
     "execution_count": 5,
     "metadata": {},
     "output_type": "execute_result"
    }
   ],
   "source": [
    "\n",
    "\n",
    "\"Please enter your name to continue: \"\n",
    "\n",
    "#get name\n",
    "name = 'pidr'\n",
    "\"Hello there, {}\".format(name) # -- add custom greetings for some people\n",
    "\n",
    "\n",
    "# Meeting the team: \n",
    "# - Developer\n",
    "# - Artist\n",
    "# - QA\n",
    "# - Analyst\n",
    "\n",
    "# loyalty -- you have to show something at least every 3 months\n",
    "\n",
    "\n",
    "# 2 types of hazards -- release and process and result\n",
    "\n",
    "# random \n",
    "# In the end -- if we have LTV < eCPI, we are not going to buy traffic\n"
   ]
  },
  {
   "cell_type": "markdown",
   "metadata": {},
   "source": [
    "# RELEVANT AF"
   ]
  },
  {
   "cell_type": "code",
   "execution_count": 6,
   "metadata": {
    "collapsed": true
   },
   "outputs": [],
   "source": [
    "class settings: \n",
    "    basic_timeframe = 130\n",
    "    genre_list = ['casual', 'midcore', 'hardcore']\n",
    "    \n",
    "# Here we choose the game name for our cool project \n",
    "def get_game_name(genre):\n",
    "    if (genre == 'casual'):\n",
    "        name =  random.choice(['Mildlife Bob!', 'Cado Avocado', 'Chop the Cord' ])\n",
    "    elif (genre == 'midcore'):\n",
    "        name =  random.choice(['D.O.G.S. — Definitely Original Game Setting', 'F.E.L.I.N.E.S', 'Crash Loyale', 'Thief of Kings' ])        \n",
    "    elif (genre == 'hardcore'):\n",
    "        name =  random.choice(['Bullet Echo', 'Fart Night', 'Player Om Nom\\'s Battlegrounds', 'Anrgry Nerds' ])\n",
    "    else:\n",
    "        name = 'What did you just do you fuck?'\n",
    "    return name\n",
    "\n",
    "GAME_SETTINGS = settings()\n",
    "#get_game_name(GAME_SETTINGS.genre_list[0])"
   ]
  },
  {
   "cell_type": "code",
   "execution_count": 8,
   "metadata": {},
   "outputs": [],
   "source": [
    "class actions:\n",
    "    #get all available actions\n",
    "    actionsDF = pd.read_csv('activities.csv')\n",
    "    #flag if this action is unavailable\n",
    "    actionsDF['available'] = True\n",
    "    \n",
    "    def __init__(self):\n",
    "        self.core = actionsDF[actionsDF.type=='core']\n",
    "        self.meta = actionsDF[actionsDF.type=='meta-game']\n",
    "        self.monetization = actionsDF[actionsDF.type=='monetization']\n",
    "        self.marketing = actionsDF[actionsDF.type=='marketing']\n",
    "        self.omnom = actionsDF[actionsDF.type=='add OmNom']\n",
    "    \n",
    "    def get_available_options(self,action_type):\n",
    "        if action_type == 'core':\n",
    "            return self.core[self.core['available']==True]\n",
    "        elif action_type == 'meta':\n",
    "            return self.meta[self.core['available']==True]\n",
    "        elif action_type == 'monetization':\n",
    "            return self.monetization[self.core['available']==True]\n",
    "        elif action_type == 'marketing':\n",
    "            return self.marketing[self.core['available']==True]\n",
    "        elif action_type == 'omnom':\n",
    "            return self.omnom[self.core['available']==True]\n",
    "        else:\n",
    "            return []"
   ]
  },
  {
   "cell_type": "code",
   "execution_count": 7,
   "metadata": {
    "collapsed": true
   },
   "outputs": [],
   "source": [
    "class Game:\n",
    "    # general settings \n",
    "    genre = ''\n",
    "    game_name = ''\n",
    "    player_name = ''\n",
    "    \n",
    "    # flags for some \"one-time\" events\n",
    "    omnom_summoned = False\n",
    "    \n",
    "    # parameters for the main game loop\n",
    "    is_running = True\n",
    "    reason_closed = \"\"\n",
    "    \n",
    "    # some valuable stuff\n",
    "    actions_history = []\n",
    "    metrics_history = []\n",
    "    available_actions = {'core':[0,1,2], \n",
    "                         'meta':[3,4,5], \n",
    "                         'monetization':[6,7,8], \n",
    "                         'marketing':[9,10,11],\n",
    "                         'addOmNom':True}\n",
    "    \n",
    "    time_total = 0\n",
    "    time_spent = 0\n",
    "    iteration_count = 0\n",
    "    loyalty = 100\n",
    "    \n",
    "    def __init__(self, genre):\n",
    "        self.genre = genre\n",
    "        self.name = get_game_name(self.genre)\n",
    "    \n",
    "    \n",
    "    def update(self):\n",
    "        message = ''\n",
    "\n",
    "        # loyalty update function\n",
    "        # logic of increasing and decreasing investor \n",
    "        loyalty -= 10\n",
    "        #update_loyalty\n",
    "        if (loyalty < 10):\n",
    "            message += \"\\nInvestors are about to quit! Do something right now!!\"\n",
    "        elif (loyalty < 25):\n",
    "            message += \"\\nBoy oh boy, it looks like you're in a pickle with investors\"\n",
    "        elif (loyalty < 50):\n",
    "            message += \"\\nOi mate, it looks like you're in a pickle with investors\"\n",
    "\n",
    "            \n",
    "    def present_state(self):\n",
    "        return \"Boy oh boy we runnin'\"\n",
    "        \n",
    "            \n",
    "    # get all available action based on current progress, metrics, history etc.\n",
    "    def get_available_actions(self):\n",
    "        \n",
    "        return []\n",
    "    \n",
    "    def do_action(self, action, **kwargs):\n",
    "        action_method = getattr(self, action.method.__name__)\n",
    "        if action_method:\n",
    "            action_method(**kwargs)\n",
    "    \n",
    "    # functions that define player actions\n",
    "    def update_core(self):\n",
    "        #get available options for core\n",
    "        available_options = self.available_actions.core\n",
    "        print(\"We can work on: \\n\", self.available_actions.core)\n",
    "        option = input(\"So what are we doing?\\n\")\n",
    "        \n",
    "        return\n",
    "    \n",
    "    def update_meta(self):\n",
    "        return\n",
    "    def summon_analyst(self):\n",
    "        return\n",
    "    def improve_LTV(self):\n",
    "        return\n",
    "    def add_om_nom(self):\n",
    "        return\n",
    "    def choose_random(self):\n",
    "        return\n"
   ]
  },
  {
   "cell_type": "code",
   "execution_count": 8,
   "metadata": {
    "collapsed": true
   },
   "outputs": [],
   "source": [
    "class Modifyer:\n",
    "    name = ''\n",
    "    description = ''\n",
    "\n",
    "class MetricsMod:\n",
    "    affected_metrics = ''"
   ]
  },
  {
   "cell_type": "code",
   "execution_count": 9,
   "metadata": {
    "collapsed": true
   },
   "outputs": [],
   "source": [
    "class Actions:\n",
    "    \n",
    "    \n",
    "            \n",
    "\n"
   ]
  },
  {
   "cell_type": "code",
   "execution_count": null,
   "metadata": {
    "collapsed": true
   },
   "outputs": [],
   "source": []
  },
  {
   "cell_type": "code",
   "execution_count": null,
   "metadata": {
    "collapsed": true
   },
   "outputs": [],
   "source": []
  },
  {
   "cell_type": "markdown",
   "metadata": {},
   "source": [
    "# Main game loop"
   ]
  },
  {
   "cell_type": "code",
   "execution_count": 18,
   "metadata": {},
   "outputs": [
    {
     "name": "stdout",
     "output_type": "stream",
     "text": [
      "Welcome, summoner. Please enter the name you want to go by:  asd\n",
      "Okay, nice to meet you, asd! Now it's time to choose your genre! (remember to choose wisely) [0,1,2]:  1\n",
      "Okay, please welcome your new up and coming hit — F.E.L.I.N.E.S \n"
     ]
    }
   ],
   "source": [
    "# create the main game\n",
    "name = raw_input(\"Welcome, summoner. Please enter the name you want to go by:  \")\n",
    "genre = raw_input(\"Oh wow, nice to meet you, {}! Now it's time to choose your genre! (remember to choose wisely) [0,1,2]:  \".format(name))\n",
    "\n",
    "# create instance of a game\n",
    "the_game = Game(GAME_SETTINGS.genre_list[int(genre)])\n",
    "print(\"Okay, please welcome your new up and coming hit — {} \".format(the_game.name))\n",
    "\n",
    "\n"
   ]
  },
  {
   "cell_type": "code",
   "execution_count": null,
   "metadata": {
    "collapsed": true
   },
   "outputs": [],
   "source": [
    "# main game loop\n",
    "def play():\n",
    "    while True:\n",
    "        if the_game.is_running:\n",
    "            # main logic with all the updates\n",
    "            the_game.\n",
    "            # present the current state\n",
    "            print(the_game.present_state())\n",
    "            print(\"Choose an action:\\n\")\n",
    "            \n",
    "            # get all the available actions\n",
    "            available_actions = the_game.get_available_actions()\n",
    "            # print them out and get input\n",
    "            for action in available_actions:\n",
    "                print(action)\n",
    "            action_input = input('Action: ')\n",
    "            for action in available_actions:\n",
    "                if action_input == action.hotkey:\n",
    "                    the_game.do_action(action, **action.kwargs)\n",
    "                    break\n",
    "            \n",
    "            \n",
    "        else:\n",
    "            print(\"Oh snap, it looks like your project was closed because of {}... \\n Better luck next time, huh?\".format(the_game.reason_closed)\n",
    "            break\n",
    "    "
   ]
  }
 ],
 "metadata": {
  "kernelspec": {
   "display_name": "Python 3",
   "language": "python",
   "name": "python3"
  },
  "language_info": {
   "codemirror_mode": {
    "name": "ipython",
    "version": 3
   },
   "file_extension": ".py",
   "mimetype": "text/x-python",
   "name": "python",
   "nbconvert_exporter": "python",
   "pygments_lexer": "ipython3",
   "version": "3.6.1"
  }
 },
 "nbformat": 4,
 "nbformat_minor": 2
}
