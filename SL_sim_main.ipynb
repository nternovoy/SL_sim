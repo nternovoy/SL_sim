{
 "cells": [
  {
   "cell_type": "code",
   "execution_count": 8,
   "metadata": {},
   "outputs": [],
   "source": [
    "import datetime\n",
    "import numpy as np\n",
    "import pandas as pd\n",
    "import sys\n",
    "import time\n",
    "import math\n",
    "import random"
   ]
  },
  {
   "cell_type": "markdown",
   "metadata": {},
   "source": [
    "# NOT RELEVANT"
   ]
  },
  {
   "cell_type": "code",
   "execution_count": 9,
   "metadata": {},
   "outputs": [
    {
     "data": {
      "text/plain": [
       "'Hello there, pidr'"
      ]
     },
     "execution_count": 9,
     "metadata": {},
     "output_type": "execute_result"
    }
   ],
   "source": [
    "\n",
    "\n",
    "\"Please enter your name to continue: \"\n",
    "\n",
    "#get name\n",
    "name = 'pidr'\n",
    "\"Hello there, {}\".format(name) # -- add custom greetings for some people\n",
    "\n",
    "\n",
    "# Meeting the team: \n",
    "# - Developer\n",
    "# - Artist\n",
    "# - QA\n",
    "# - Analyst\n",
    "\n",
    "# loyalty -- you have to show something at least every 3 months\n",
    "\n",
    "\n",
    "# 2 types of hazards -- release and process and result\n",
    "\n",
    "# random \n",
    "# In the end -- if we have LTV < eCPI, we are not going to buy traffic\n"
   ]
  },
  {
   "cell_type": "markdown",
   "metadata": {},
   "source": [
    "# RELEVANT AF"
   ]
  },
  {
   "cell_type": "code",
   "execution_count": 21,
   "metadata": {},
   "outputs": [
    {
     "data": {
      "text/plain": [
       "'Mildlife Bob!'"
      ]
     },
     "execution_count": 21,
     "metadata": {},
     "output_type": "execute_result"
    }
   ],
   "source": [
    "class settings: \n",
    "    basic_timeframe = 130\n",
    "    genre_list = ['casual', 'midcore', 'hardcore']\n",
    "    \n",
    "# Here we choose the game name for our cool project \n",
    "def get_game_name(genre):\n",
    "    if (genre == 'casual'):\n",
    "        name =  random.choice(['Mildlife Bob!', 'Cado Avocado', 'Chop the Cord' ])\n",
    "    elif (genre == 'midcore'):\n",
    "        name =  random.choice(['D.O.G.S. — Definitely Original Game Setting', 'F.E.L.I.N.E.S', 'Crash Loyale', 'Thief of Kings' ])        \n",
    "    elif (genre == 'hardcore'):\n",
    "        name =  random.choice(['Bullet Echo', 'Fart Night', 'Player Om Nom\\'s Battlegrounds', 'Anrgry Nerds' ])\n",
    "    else:\n",
    "        name = 'What did you just do you fuck?'\n",
    "    return name\n",
    "\n",
    "GAME_SETTINGS = settings()\n",
    "#get_game_name(GAME_SETTINGS.genre_list[0])"
   ]
  },
  {
   "cell_type": "code",
   "execution_count": 26,
   "metadata": {},
   "outputs": [],
   "source": [
    "class Game:\n",
    "    genre = ''\n",
    "    game_name = ''\n",
    "    metrics_history = []\n",
    "    omnom_summoned = False\n",
    "    actions_history = []\n",
    "    time_total = 0\n",
    "    time_spent = 0\n",
    "    iteration_count = 0\n",
    "    loyalty = 100\n",
    "    \n",
    "    def __init__(self, genre):\n",
    "        self.genre = genre\n",
    "        self.name = get_game_name(self.genre)\n",
    "    \n",
    "    \n",
    "    def update(self):\n",
    "        message = ''\n",
    "        \n",
    "        \n",
    "        # loyalty update function\n",
    "        # logic of increasing and decreasing investor \n",
    "        loyalty -= 10\n",
    "        #update_loyalty\n",
    "        if (loyalty < 50):\n",
    "            message += \"\\nBoy oh boy, it looks like you're in a pickle with investors\"\n",
    "    \n",
    "    \n",
    "    def generate_choice_options(self):\n",
    "        return []\n",
    "        \n",
    "        "
   ]
  },
  {
   "cell_type": "code",
   "execution_count": 25,
   "metadata": {},
   "outputs": [],
   "source": [
    "class Modifyer:\n",
    "    name = ''\n",
    "    description = ''\n",
    "\n",
    "class MetricsMod:\n",
    "    affected_metrics = ''"
   ]
  },
  {
   "cell_type": "code",
   "execution_count": 24,
   "metadata": {},
   "outputs": [],
   "source": [
    "class Actions:\n",
    "    \n",
    "    potential_actions={}\n",
    "\n",
    "    def update_core():\n",
    "        return\n",
    "    def update_meta():\n",
    "        return\n",
    "    def summon_analyst():\n",
    "        return\n",
    "    def improve_LTV():\n",
    "        return\n",
    "    def add_om_nom():\n",
    "        return\n",
    "    def choose_random():\n",
    "        return\n"
   ]
  },
  {
   "cell_type": "code",
   "execution_count": null,
   "metadata": {},
   "outputs": [],
   "source": []
  },
  {
   "cell_type": "code",
   "execution_count": null,
   "metadata": {},
   "outputs": [],
   "source": []
  },
  {
   "cell_type": "markdown",
   "metadata": {},
   "source": [
    "# Main game loop"
   ]
  },
  {
   "cell_type": "code",
   "execution_count": 29,
   "metadata": {},
   "outputs": [
    {
     "name": "stdout",
     "output_type": "stream",
     "text": [
      "Welcome, summoner. Please choose your genre:\n",
      "0\n"
     ]
    }
   ],
   "source": [
    "# create the main game\n",
    "print(\"Welcome, summoner. Please choose your genre:\")\n",
    "genre = raw_input()\n",
    "the_game = Game(GAME_SETTINGS.genre_list[int(genre)])\n",
    "print(\"Welcome, summoner. Please choose your genre:\")\n",
    "\n"
   ]
  },
  {
   "cell_type": "code",
   "execution_count": null,
   "metadata": {},
   "outputs": [],
   "source": []
  }
 ],
 "metadata": {
  "kernelspec": {
   "display_name": "Python 2",
   "language": "python",
   "name": "python2"
  },
  "language_info": {
   "codemirror_mode": {
    "name": "ipython",
    "version": 2
   },
   "file_extension": ".py",
   "mimetype": "text/x-python",
   "name": "python",
   "nbconvert_exporter": "python",
   "pygments_lexer": "ipython2",
   "version": "2.7.15"
  }
 },
 "nbformat": 4,
 "nbformat_minor": 2
}
